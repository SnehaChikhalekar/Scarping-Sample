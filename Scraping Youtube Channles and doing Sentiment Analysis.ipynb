{
 "cells": [
  {
   "cell_type": "code",
   "execution_count": 2,
   "metadata": {},
   "outputs": [],
   "source": [
    "#Scraping Youtube Channles and doing Sentiment Analysis"
   ]
  },
  {
   "cell_type": "markdown",
   "metadata": {},
   "source": [
    "# Text Classification"
   ]
  },
  {
   "cell_type": "code",
   "execution_count": 3,
   "metadata": {},
   "outputs": [],
   "source": [
    "import requests\n",
    "import re\n",
    "import pandas as pd\n",
    "import numpy as np\n",
    "import matplotlib.pyplot as plt\n",
    "from bs4 import BeautifulSoup\n",
    "import seaborn as sns\n",
    "import nltk\n",
    "%matplotlib inline"
   ]
  },
  {
   "cell_type": "code",
   "execution_count": 5,
   "metadata": {},
   "outputs": [
    {
     "name": "stdout",
     "output_type": "stream",
     "text": [
      "340040\n"
     ]
    }
   ],
   "source": [
    "URL=\"https://www.youtube.com/playlist?list=PLQVvvaa0QuDfKTOs3Keq_kaG2P55YRn5v\"\n",
    "r=requests.get(URL)\n",
    "print(len(r.text))\n"
   ]
  },
  {
   "cell_type": "code",
   "execution_count": 8,
   "metadata": {},
   "outputs": [
    {
     "name": "stdout",
     "output_type": "stream",
     "text": [
      "Machine Learning with Python - YouTube\n"
     ]
    }
   ],
   "source": [
    "s=BeautifulSoup(r.text)\n",
    "print(s.title.string)"
   ]
  },
  {
   "cell_type": "markdown",
   "metadata": {},
   "source": [
    "Scrape the parent page of playlists.\n",
    "Since every youtube link has a watch \n",
    "substring contained in it and also index \n",
    "substring to avoid duplication. Use this \n",
    "information and extract all those links\n",
    "from this parent page.\n"
   ]
  },
  {
   "cell_type": "code",
   "execution_count": 13,
   "metadata": {},
   "outputs": [],
   "source": [
    "parent=\"https://youtube.com\"\n",
    "child_videos=[]\n",
    "title=[]\n",
    "for link in s.find_all('a'):\n",
    "    child=link.get('href')\n",
    "    l=link.text.strip()\n",
    "    try:\n",
    "        if(\"watch\" in child) and (\"index\" in child):\n",
    "            child_videos.append(parent +child)\n",
    "            title.append(l)\n",
    "    except:\n",
    "        pass\n",
    "            "
   ]
  },
  {
   "cell_type": "code",
   "execution_count": 18,
   "metadata": {},
   "outputs": [
    {
     "data": {
      "text/plain": [
       "144"
      ]
     },
     "execution_count": 18,
     "metadata": {},
     "output_type": "execute_result"
    }
   ],
   "source": [
    "len(title)"
   ]
  },
  {
   "cell_type": "code",
   "execution_count": 19,
   "metadata": {},
   "outputs": [
    {
     "data": {
      "text/plain": [
       "72"
      ]
     },
     "execution_count": 19,
     "metadata": {},
     "output_type": "execute_result"
    }
   ],
   "source": [
    "## Clean the title:\n",
    "while True:\n",
    "    if \"\" in title:\n",
    "        title.remove(\"\")\n",
    "    elif \"Play all\" in title:\n",
    "        title.remove(\"Play all\")\n",
    "        title.remove(\"► Play all\")\n",
    "    else:\n",
    "        break\n",
    "len(title)"
   ]
  },
  {
   "cell_type": "code",
   "execution_count": 20,
   "metadata": {},
   "outputs": [
    {
     "data": {
      "text/plain": [
       "list"
      ]
     },
     "execution_count": 20,
     "metadata": {},
     "output_type": "execute_result"
    }
   ],
   "source": [
    "type(child_videos)"
   ]
  },
  {
   "cell_type": "code",
   "execution_count": null,
   "metadata": {},
   "outputs": [],
   "source": [
    "child_videos=list(set(child_videos))\n"
   ]
  },
  {
   "cell_type": "code",
   "execution_count": 23,
   "metadata": {},
   "outputs": [],
   "source": [
    "child_videos=list(set(child_videos))\n",
    "\n",
    "for i in child_videos:\n",
    "    x=re.findall(r'.*index=(\\d\\d?).*', i)\n",
    "    #print(x)\n",
    "child_videos=sorted(child_videos,key=lambda x:int(re.findall(r'.*index=(\\d\\d?).*', x)[0]) if len(re.findall(r'.*index=(\\d\\d?).*', x)) > 0 else 0)"
   ]
  },
  {
   "cell_type": "code",
   "execution_count": 24,
   "metadata": {},
   "outputs": [
    {
     "data": {
      "text/plain": [
       "['https://youtube.com/watch?v=OGxgnH8y2NM&list=PLQVvvaa0QuDfKTOs3Keq_kaG2P55YRn5v&index=2&t=0s',\n",
       " 'https://youtube.com/watch?v=JcI5Vnw0b2c&list=PLQVvvaa0QuDfKTOs3Keq_kaG2P55YRn5v&index=3&t=0s',\n",
       " 'https://youtube.com/watch?v=lN5jesocJjk&list=PLQVvvaa0QuDfKTOs3Keq_kaG2P55YRn5v&index=4&t=0s',\n",
       " 'https://youtube.com/watch?v=r4mwkS2T9aI&list=PLQVvvaa0QuDfKTOs3Keq_kaG2P55YRn5v&index=5&t=0s',\n",
       " 'https://youtube.com/watch?v=QLVMqwpOLPk&list=PLQVvvaa0QuDfKTOs3Keq_kaG2P55YRn5v&index=6&t=0s',\n",
       " 'https://youtube.com/watch?v=za5s7RB_VLw&list=PLQVvvaa0QuDfKTOs3Keq_kaG2P55YRn5v&index=7&t=0s',\n",
       " 'https://youtube.com/watch?v=V59bYfIomVk&list=PLQVvvaa0QuDfKTOs3Keq_kaG2P55YRn5v&index=8&t=0s',\n",
       " 'https://youtube.com/watch?v=SvmueyhSkgQ&list=PLQVvvaa0QuDfKTOs3Keq_kaG2P55YRn5v&index=9&t=0s',\n",
       " 'https://youtube.com/watch?v=KLGfMGsgP34&list=PLQVvvaa0QuDfKTOs3Keq_kaG2P55YRn5v&index=10&t=0s',\n",
       " 'https://youtube.com/watch?v=-fgYp74SNtk&list=PLQVvvaa0QuDfKTOs3Keq_kaG2P55YRn5v&index=11&t=0s',\n",
       " 'https://youtube.com/watch?v=QUyAFokOmow&list=PLQVvvaa0QuDfKTOs3Keq_kaG2P55YRn5v&index=12&t=0s',\n",
       " 'https://youtube.com/watch?v=Kpxwl2u-Wgk&list=PLQVvvaa0QuDfKTOs3Keq_kaG2P55YRn5v&index=13&t=0s',\n",
       " 'https://youtube.com/watch?v=44jq6ano5n0&list=PLQVvvaa0QuDfKTOs3Keq_kaG2P55YRn5v&index=14&t=0s',\n",
       " 'https://youtube.com/watch?v=1i0zu9jHN6U&list=PLQVvvaa0QuDfKTOs3Keq_kaG2P55YRn5v&index=15&t=0s',\n",
       " 'https://youtube.com/watch?v=hl3bQySs8sM&list=PLQVvvaa0QuDfKTOs3Keq_kaG2P55YRn5v&index=16&t=0s',\n",
       " 'https://youtube.com/watch?v=n3RqsMz3-0A&list=PLQVvvaa0QuDfKTOs3Keq_kaG2P55YRn5v&index=17&t=0s',\n",
       " 'https://youtube.com/watch?v=GWHG3cS2PKc&list=PLQVvvaa0QuDfKTOs3Keq_kaG2P55YRn5v&index=18&t=0s',\n",
       " 'https://youtube.com/watch?v=3XPhmnf96s0&list=PLQVvvaa0QuDfKTOs3Keq_kaG2P55YRn5v&index=19&t=0s',\n",
       " 'https://youtube.com/watch?v=r_D5TTV9-2c&list=PLQVvvaa0QuDfKTOs3Keq_kaG2P55YRn5v&index=20&t=0s',\n",
       " 'https://youtube.com/watch?v=mA5nwGoRAOo&list=PLQVvvaa0QuDfKTOs3Keq_kaG2P55YRn5v&index=21&t=0s',\n",
       " 'https://youtube.com/watch?v=HHUqhVzctQE&list=PLQVvvaa0QuDfKTOs3Keq_kaG2P55YRn5v&index=22&t=0s',\n",
       " 'https://youtube.com/watch?v=VngCRWPrNNc&list=PLQVvvaa0QuDfKTOs3Keq_kaG2P55YRn5v&index=23&t=0s',\n",
       " 'https://youtube.com/watch?v=ZDu3LKv9gOI&list=PLQVvvaa0QuDfKTOs3Keq_kaG2P55YRn5v&index=24&t=0s',\n",
       " 'https://youtube.com/watch?v=bGCafQT5h1s&list=PLQVvvaa0QuDfKTOs3Keq_kaG2P55YRn5v&index=25&t=0s',\n",
       " 'https://youtube.com/watch?v=AbVtcUBlBok&list=PLQVvvaa0QuDfKTOs3Keq_kaG2P55YRn5v&index=26&t=0s',\n",
       " 'https://youtube.com/watch?v=QAs2olt7pJ4&list=PLQVvvaa0QuDfKTOs3Keq_kaG2P55YRn5v&index=27&t=0s',\n",
       " 'https://youtube.com/watch?v=VhHLpg7ZS4Q&list=PLQVvvaa0QuDfKTOs3Keq_kaG2P55YRn5v&index=28&t=0s',\n",
       " 'https://youtube.com/watch?v=yrnhziJk-z8&list=PLQVvvaa0QuDfKTOs3Keq_kaG2P55YRn5v&index=29&t=0s',\n",
       " 'https://youtube.com/watch?v=9IfT8KXX_9c&list=PLQVvvaa0QuDfKTOs3Keq_kaG2P55YRn5v&index=30&t=0s',\n",
       " 'https://youtube.com/watch?v=xqg5S-GrrDQ&list=PLQVvvaa0QuDfKTOs3Keq_kaG2P55YRn5v&index=31&t=0s',\n",
       " 'https://youtube.com/watch?v=JHaqodAQqiI&list=PLQVvvaa0QuDfKTOs3Keq_kaG2P55YRn5v&index=32&t=0s',\n",
       " 'https://youtube.com/watch?v=XdcfJX-mDG4&list=PLQVvvaa0QuDfKTOs3Keq_kaG2P55YRn5v&index=33&t=0s',\n",
       " 'https://youtube.com/watch?v=93AjE1YY5II&list=PLQVvvaa0QuDfKTOs3Keq_kaG2P55YRn5v&index=34&t=0s',\n",
       " 'https://youtube.com/watch?v=ZueoXMgCd1c&list=PLQVvvaa0QuDfKTOs3Keq_kaG2P55YRn5v&index=35&t=0s',\n",
       " 'https://youtube.com/watch?v=8p6XaQSIFpY&list=PLQVvvaa0QuDfKTOs3Keq_kaG2P55YRn5v&index=36&t=0s',\n",
       " 'https://youtube.com/watch?v=j6jstahQp2A&list=PLQVvvaa0QuDfKTOs3Keq_kaG2P55YRn5v&index=37&t=0s',\n",
       " 'https://youtube.com/watch?v=H4JSN_99kig&list=PLQVvvaa0QuDfKTOs3Keq_kaG2P55YRn5v&index=38&t=0s',\n",
       " 'https://youtube.com/watch?v=HRoeYblYhkg&list=PLQVvvaa0QuDfKTOs3Keq_kaG2P55YRn5v&index=39&t=0s',\n",
       " 'https://youtube.com/watch?v=3ERPpzrDkVg&list=PLQVvvaa0QuDfKTOs3Keq_kaG2P55YRn5v&index=40&t=0s',\n",
       " 'https://youtube.com/watch?v=TO8I-nggpzs&list=PLQVvvaa0QuDfKTOs3Keq_kaG2P55YRn5v&index=41&t=0s',\n",
       " 'https://youtube.com/watch?v=P-iAd8b7zl4&list=PLQVvvaa0QuDfKTOs3Keq_kaG2P55YRn5v&index=42&t=0s',\n",
       " 'https://youtube.com/watch?v=k1alPDpSGBE&list=PLQVvvaa0QuDfKTOs3Keq_kaG2P55YRn5v&index=43&t=0s',\n",
       " 'https://youtube.com/watch?v=oYbVFhK_olY&list=PLQVvvaa0QuDfKTOs3Keq_kaG2P55YRn5v&index=44&t=0s',\n",
       " 'https://youtube.com/watch?v=CvspEt8kSIg&list=PLQVvvaa0QuDfKTOs3Keq_kaG2P55YRn5v&index=45&t=0s',\n",
       " 'https://youtube.com/watch?v=pnSBZ6TEVjY&list=PLQVvvaa0QuDfKTOs3Keq_kaG2P55YRn5v&index=46&t=0s',\n",
       " 'https://youtube.com/watch?v=BhpvH5DuVu8&list=PLQVvvaa0QuDfKTOs3Keq_kaG2P55YRn5v&index=47&t=0s',\n",
       " 'https://youtube.com/watch?v=PwAGxqrXSCs&list=PLQVvvaa0QuDfKTOs3Keq_kaG2P55YRn5v&index=48&t=0s',\n",
       " 'https://youtube.com/watch?v=7fcWfUavO7E&list=PLQVvvaa0QuDfKTOs3Keq_kaG2P55YRn5v&index=49&t=0s',\n",
       " 'https://youtube.com/watch?v=YFxVHD2TNII&list=PLQVvvaa0QuDfKTOs3Keq_kaG2P55YRn5v&index=50&t=0s',\n",
       " 'https://youtube.com/watch?v=6rDWwL6irG0&list=PLQVvvaa0QuDfKTOs3Keq_kaG2P55YRn5v&index=51&t=0s',\n",
       " 'https://youtube.com/watch?v=JeamFbHhmDo&list=PLQVvvaa0QuDfKTOs3Keq_kaG2P55YRn5v&index=52&t=0s',\n",
       " 'https://youtube.com/watch?v=io6Ajf5XkaM&list=PLQVvvaa0QuDfKTOs3Keq_kaG2P55YRn5v&index=53&t=0s',\n",
       " 'https://youtube.com/watch?v=r7-WPbx8VuY&list=PLQVvvaa0QuDfKTOs3Keq_kaG2P55YRn5v&index=54&t=0s',\n",
       " 'https://youtube.com/watch?v=hWgGJeAvLws&list=PLQVvvaa0QuDfKTOs3Keq_kaG2P55YRn5v&index=55&t=0s',\n",
       " 'https://youtube.com/watch?v=dFARw8Pm0Gk&list=PLQVvvaa0QuDfKTOs3Keq_kaG2P55YRn5v&index=56&t=0s',\n",
       " 'https://youtube.com/watch?v=7Wq-QmMT4gM&list=PLQVvvaa0QuDfKTOs3Keq_kaG2P55YRn5v&index=57&t=0s',\n",
       " 'https://youtube.com/watch?v=mynJtLhhcXk&list=PLQVvvaa0QuDfKTOs3Keq_kaG2P55YRn5v&index=58&t=0s',\n",
       " 'https://youtube.com/watch?v=NMd7WjZiCzc&list=PLQVvvaa0QuDfKTOs3Keq_kaG2P55YRn5v&index=59&t=0s',\n",
       " 'https://youtube.com/watch?v=3zeg7H6cAJw&list=PLQVvvaa0QuDfKTOs3Keq_kaG2P55YRn5v&index=60&t=0s',\n",
       " 'https://youtube.com/watch?v=RVt4EN-XdPA&list=PLQVvvaa0QuDfKTOs3Keq_kaG2P55YRn5v&index=61&t=0s',\n",
       " 'https://youtube.com/watch?v=G-KvpNGudLw&list=PLQVvvaa0QuDfKTOs3Keq_kaG2P55YRn5v&index=62&t=0s',\n",
       " 'https://youtube.com/watch?v=HCBX2cuA5UU&list=PLQVvvaa0QuDfKTOs3Keq_kaG2P55YRn5v&index=63&t=0s',\n",
       " 'https://youtube.com/watch?v=gT4F3HGYXf4&list=PLQVvvaa0QuDfKTOs3Keq_kaG2P55YRn5v&index=64&t=0s',\n",
       " 'https://youtube.com/watch?v=Ge65ukmJTzQ&list=PLQVvvaa0QuDfKTOs3Keq_kaG2P55YRn5v&index=65&t=0s',\n",
       " 'https://youtube.com/watch?v=ViO56ASqeks&list=PLQVvvaa0QuDfKTOs3Keq_kaG2P55YRn5v&index=66&t=0s',\n",
       " 'https://youtube.com/watch?v=27FPv1VHSsQ&list=PLQVvvaa0QuDfKTOs3Keq_kaG2P55YRn5v&index=67&t=0s',\n",
       " 'https://youtube.com/watch?v=ulq9DjCJPDU&list=PLQVvvaa0QuDfKTOs3Keq_kaG2P55YRn5v&index=68&t=0s',\n",
       " 'https://youtube.com/watch?v=KlffppN47lc&list=PLQVvvaa0QuDfKTOs3Keq_kaG2P55YRn5v&index=69&t=0s',\n",
       " 'https://youtube.com/watch?v=MqcZYw8Tgpc&list=PLQVvvaa0QuDfKTOs3Keq_kaG2P55YRn5v&index=70&t=0s',\n",
       " 'https://youtube.com/watch?v=lqhMTkouBx0&list=PLQVvvaa0QuDfKTOs3Keq_kaG2P55YRn5v&index=71&t=0s',\n",
       " 'https://youtube.com/watch?v=_DAeMDMHgtY&list=PLQVvvaa0QuDfKTOs3Keq_kaG2P55YRn5v&index=72&t=0s',\n",
       " 'https://youtube.com/watch?v=CPZ5ihaNfJc&list=PLQVvvaa0QuDfKTOs3Keq_kaG2P55YRn5v&index=73&t=0s']"
      ]
     },
     "execution_count": 24,
     "metadata": {},
     "output_type": "execute_result"
    }
   ],
   "source": [
    "child_videos"
   ]
  },
  {
   "cell_type": "code",
   "execution_count": 25,
   "metadata": {},
   "outputs": [],
   "source": [
    "# ## Scrape individual links obtained in list of child videos\n",
    "# and extract likes and dislikes."
   ]
  },
  {
   "cell_type": "code",
   "execution_count": 31,
   "metadata": {},
   "outputs": [],
   "source": [
    "youtube_data=[]\n",
    "for j in range(0,len(child_videos)):\n",
    "    dislikes=0\n",
    "    likes=0\n",
    "    ri=requests.get(child_videos[j])\n",
    "    si=BeautifulSoup(ri.text)\n",
    "    for i in si.find_all('button'):\n",
    "        m=i.get('aria-label')\n",
    "        try:\n",
    "            if(isinstance(m,str)):\n",
    "                if('dislike' in m):\n",
    "                    dislikes=re.findall(r'\\d*,?\\d+?',m)\n",
    "                elif ('like' in m):\n",
    "                    likes=re.findall(r'\\d*,?\\d+?',m)\n",
    "        except:\n",
    "            pass\n",
    "    youtube_data.append([child_videos[j],title[j],likes,dislikes])\n",
    "    \n",
    "    "
   ]
  },
  {
   "cell_type": "code",
   "execution_count": 27,
   "metadata": {},
   "outputs": [],
   "source": [
    "# ## Create a dataframe from list of youtube data\n",
    "# and get the likes and dilikes"
   ]
  },
  {
   "cell_type": "code",
   "execution_count": 48,
   "metadata": {},
   "outputs": [],
   "source": [
    "test = pd.DataFrame(youtube_data, columns = ['Link', 'Title', 'Likes', 'Dislikes'])"
   ]
  },
  {
   "cell_type": "code",
   "execution_count": 49,
   "metadata": {},
   "outputs": [
    {
     "data": {
      "text/html": [
       "<div>\n",
       "<style scoped>\n",
       "    .dataframe tbody tr th:only-of-type {\n",
       "        vertical-align: middle;\n",
       "    }\n",
       "\n",
       "    .dataframe tbody tr th {\n",
       "        vertical-align: top;\n",
       "    }\n",
       "\n",
       "    .dataframe thead th {\n",
       "        text-align: right;\n",
       "    }\n",
       "</style>\n",
       "<table border=\"1\" class=\"dataframe\">\n",
       "  <thead>\n",
       "    <tr style=\"text-align: right;\">\n",
       "      <th></th>\n",
       "      <th>Link</th>\n",
       "      <th>Title</th>\n",
       "      <th>Likes</th>\n",
       "      <th>Dislikes</th>\n",
       "    </tr>\n",
       "  </thead>\n",
       "  <tbody>\n",
       "    <tr>\n",
       "      <th>0</th>\n",
       "      <td>https://youtube.com/watch?v=OGxgnH8y2NM&amp;list=P...</td>\n",
       "      <td>Practical Machine Learning Tutorial with Pytho...</td>\n",
       "      <td>[14,6, 14]</td>\n",
       "      <td>[197]</td>\n",
       "    </tr>\n",
       "    <tr>\n",
       "      <th>1</th>\n",
       "      <td>https://youtube.com/watch?v=JcI5Vnw0b2c&amp;list=P...</td>\n",
       "      <td>Regression Intro - Practical Machine Learning ...</td>\n",
       "      <td>[6,3, 14]</td>\n",
       "      <td>[136]</td>\n",
       "    </tr>\n",
       "    <tr>\n",
       "      <th>2</th>\n",
       "      <td>https://youtube.com/watch?v=lN5jesocJjk&amp;list=P...</td>\n",
       "      <td>Regression Features and Labels - Practical Mac...</td>\n",
       "      <td>[2,8, 90]</td>\n",
       "      <td>[115]</td>\n",
       "    </tr>\n",
       "  </tbody>\n",
       "</table>\n",
       "</div>"
      ],
      "text/plain": [
       "                                                Link  \\\n",
       "0  https://youtube.com/watch?v=OGxgnH8y2NM&list=P...   \n",
       "1  https://youtube.com/watch?v=JcI5Vnw0b2c&list=P...   \n",
       "2  https://youtube.com/watch?v=lN5jesocJjk&list=P...   \n",
       "\n",
       "                                               Title       Likes Dislikes  \n",
       "0  Practical Machine Learning Tutorial with Pytho...  [14,6, 14]    [197]  \n",
       "1  Regression Intro - Practical Machine Learning ...   [6,3, 14]    [136]  \n",
       "2  Regression Features and Labels - Practical Mac...   [2,8, 90]    [115]  "
      ]
     },
     "execution_count": 49,
     "metadata": {},
     "output_type": "execute_result"
    }
   ],
   "source": [
    "test.head(3)"
   ]
  },
  {
   "cell_type": "code",
   "execution_count": 50,
   "metadata": {},
   "outputs": [
    {
     "data": {
      "text/plain": [
       "[['https://youtube.com/watch?v=OGxgnH8y2NM&list=PLQVvvaa0QuDfKTOs3Keq_kaG2P55YRn5v&index=2&t=0s',\n",
       "  'Practical Machine Learning Tutorial with Python Intro p.1',\n",
       "  ['14,6', '14'],\n",
       "  ['197']],\n",
       " ['https://youtube.com/watch?v=JcI5Vnw0b2c&list=PLQVvvaa0QuDfKTOs3Keq_kaG2P55YRn5v&index=3&t=0s',\n",
       "  'Regression Intro - Practical Machine Learning Tutorial with Python p.2',\n",
       "  ['6,3', '14'],\n",
       "  ['136']]]"
      ]
     },
     "execution_count": 50,
     "metadata": {},
     "output_type": "execute_result"
    }
   ],
   "source": [
    "youtube_data[:2]"
   ]
  },
  {
   "cell_type": "code",
   "execution_count": 46,
   "metadata": {},
   "outputs": [],
   "source": [
    "## As there were , and spaces in likes and dislikes so extract numbers"
   ]
  },
  {
   "cell_type": "code",
   "execution_count": 72,
   "metadata": {},
   "outputs": [],
   "source": [
    "test.Likes.new=[]\n",
    "for i in test.Likes:\n",
    "    #print(i)\n",
    "    try:\n",
    "        test.Likes.new.append(''.join(i))\n",
    "    except:\n",
    "        test.Likes.new.append('0')\n",
    "        \n",
    "# test.Likes = test.Likes.apply(lambda x: ''.join(x))\n",
    "# test.Dislikes = test.Dislikes.apply(lambda x: ''.join(x))"
   ]
  },
  {
   "cell_type": "code",
   "execution_count": 73,
   "metadata": {},
   "outputs": [
    {
     "data": {
      "text/plain": [
       "72"
      ]
     },
     "execution_count": 73,
     "metadata": {},
     "output_type": "execute_result"
    }
   ],
   "source": [
    "len(test.Likes)"
   ]
  },
  {
   "cell_type": "code",
   "execution_count": 74,
   "metadata": {},
   "outputs": [
    {
     "data": {
      "text/plain": [
       "72"
      ]
     },
     "execution_count": 74,
     "metadata": {},
     "output_type": "execute_result"
    }
   ],
   "source": [
    "len(test.Likes.new)"
   ]
  },
  {
   "cell_type": "code",
   "execution_count": 68,
   "metadata": {},
   "outputs": [],
   "source": [
    "# test.Likes=test.Likes.apply(lambda x: int(re.sub(',','',x)))\n",
    "# test.Dislikes=test.Dislikes.apply(lambda x:int(re.sub(',','',x)))"
   ]
  },
  {
   "cell_type": "code",
   "execution_count": 75,
   "metadata": {},
   "outputs": [],
   "source": [
    "test.Likes.new1=[]\n",
    "for i in test.Likes.new:\n",
    "    #print(i)\n",
    "    try:\n",
    "        test.Likes.new1.append(int(re.sub(',', '', i)))\n",
    "    except:\n",
    "        test.Likes.new1.append('0')\n",
    "        \n",
    "# test.Likes = test.Likes.apply(lambda x: ''.join(x))\n",
    "# test.Dislikes = test.Dislikes.apply(lambda x: ''.join(x))"
   ]
  },
  {
   "cell_type": "code",
   "execution_count": 76,
   "metadata": {},
   "outputs": [
    {
     "data": {
      "text/plain": [
       "72"
      ]
     },
     "execution_count": 76,
     "metadata": {},
     "output_type": "execute_result"
    }
   ],
   "source": [
    "len(test.Likes.new1)"
   ]
  },
  {
   "cell_type": "code",
   "execution_count": 77,
   "metadata": {},
   "outputs": [
    {
     "data": {
      "text/plain": [
       "[14614, 6314]"
      ]
     },
     "execution_count": 77,
     "metadata": {},
     "output_type": "execute_result"
    }
   ],
   "source": [
    "test.Likes.new1[:2]"
   ]
  },
  {
   "cell_type": "code",
   "execution_count": 79,
   "metadata": {},
   "outputs": [],
   "source": [
    "test.Likes=test.Likes.new1"
   ]
  },
  {
   "cell_type": "code",
   "execution_count": 80,
   "metadata": {},
   "outputs": [
    {
     "data": {
      "text/html": [
       "<div>\n",
       "<style scoped>\n",
       "    .dataframe tbody tr th:only-of-type {\n",
       "        vertical-align: middle;\n",
       "    }\n",
       "\n",
       "    .dataframe tbody tr th {\n",
       "        vertical-align: top;\n",
       "    }\n",
       "\n",
       "    .dataframe thead th {\n",
       "        text-align: right;\n",
       "    }\n",
       "</style>\n",
       "<table border=\"1\" class=\"dataframe\">\n",
       "  <thead>\n",
       "    <tr style=\"text-align: right;\">\n",
       "      <th></th>\n",
       "      <th>Link</th>\n",
       "      <th>Title</th>\n",
       "      <th>Likes</th>\n",
       "      <th>Dislikes</th>\n",
       "    </tr>\n",
       "  </thead>\n",
       "  <tbody>\n",
       "    <tr>\n",
       "      <th>0</th>\n",
       "      <td>https://youtube.com/watch?v=OGxgnH8y2NM&amp;list=P...</td>\n",
       "      <td>Practical Machine Learning Tutorial with Pytho...</td>\n",
       "      <td>14614</td>\n",
       "      <td>[197]</td>\n",
       "    </tr>\n",
       "    <tr>\n",
       "      <th>1</th>\n",
       "      <td>https://youtube.com/watch?v=JcI5Vnw0b2c&amp;list=P...</td>\n",
       "      <td>Regression Intro - Practical Machine Learning ...</td>\n",
       "      <td>6314</td>\n",
       "      <td>[136]</td>\n",
       "    </tr>\n",
       "    <tr>\n",
       "      <th>2</th>\n",
       "      <td>https://youtube.com/watch?v=lN5jesocJjk&amp;list=P...</td>\n",
       "      <td>Regression Features and Labels - Practical Mac...</td>\n",
       "      <td>2890</td>\n",
       "      <td>[115]</td>\n",
       "    </tr>\n",
       "    <tr>\n",
       "      <th>3</th>\n",
       "      <td>https://youtube.com/watch?v=r4mwkS2T9aI&amp;list=P...</td>\n",
       "      <td>Regression Training and Testing - Practical Ma...</td>\n",
       "      <td>2189</td>\n",
       "      <td>[78]</td>\n",
       "    </tr>\n",
       "    <tr>\n",
       "      <th>4</th>\n",
       "      <td>https://youtube.com/watch?v=QLVMqwpOLPk&amp;list=P...</td>\n",
       "      <td>Regression forecasting and predicting - Practi...</td>\n",
       "      <td>1413</td>\n",
       "      <td>[86]</td>\n",
       "    </tr>\n",
       "  </tbody>\n",
       "</table>\n",
       "</div>"
      ],
      "text/plain": [
       "                                                Link  \\\n",
       "0  https://youtube.com/watch?v=OGxgnH8y2NM&list=P...   \n",
       "1  https://youtube.com/watch?v=JcI5Vnw0b2c&list=P...   \n",
       "2  https://youtube.com/watch?v=lN5jesocJjk&list=P...   \n",
       "3  https://youtube.com/watch?v=r4mwkS2T9aI&list=P...   \n",
       "4  https://youtube.com/watch?v=QLVMqwpOLPk&list=P...   \n",
       "\n",
       "                                               Title  Likes Dislikes  \n",
       "0  Practical Machine Learning Tutorial with Pytho...  14614    [197]  \n",
       "1  Regression Intro - Practical Machine Learning ...   6314    [136]  \n",
       "2  Regression Features and Labels - Practical Mac...   2890    [115]  \n",
       "3  Regression Training and Testing - Practical Ma...   2189     [78]  \n",
       "4  Regression forecasting and predicting - Practi...   1413     [86]  "
      ]
     },
     "execution_count": 80,
     "metadata": {},
     "output_type": "execute_result"
    }
   ],
   "source": [
    "test.head()"
   ]
  },
  {
   "cell_type": "code",
   "execution_count": 82,
   "metadata": {},
   "outputs": [],
   "source": [
    "test.Dislikes.new=[]\n",
    "for i in test.Dislikes:\n",
    "    #print(i)\n",
    "    try:\n",
    "        test.Dislikes.new.append(''.join(i))\n",
    "    except:\n",
    "        test.Dislikes.new.append('0')\n",
    "        \n",
    "# test.Likes = test.Likes.apply(lambda x: ''.join(x))\n",
    "# test.Dislikes = test.Dislikes.apply(lambda x: ''.join(x))"
   ]
  },
  {
   "cell_type": "code",
   "execution_count": 83,
   "metadata": {},
   "outputs": [
    {
     "data": {
      "text/plain": [
       "['197', '136']"
      ]
     },
     "execution_count": 83,
     "metadata": {},
     "output_type": "execute_result"
    }
   ],
   "source": [
    "test.Dislikes.new[:2]"
   ]
  },
  {
   "cell_type": "code",
   "execution_count": 84,
   "metadata": {},
   "outputs": [],
   "source": [
    "test.Dislikes.new1=[]\n",
    "for i in test.Dislikes.new:\n",
    "    #print(i)\n",
    "    try:\n",
    "        test.Dislikes.new1.append(int(re.sub(',', '', i)))\n",
    "    except:\n",
    "        test.Dislikes.new1.append('0')\n",
    "        \n",
    "# test.Likes = test.Likes.apply(lambda x: ''.join(x))\n",
    "# test.Dislikes = test.Dislikes.apply(lambda x: ''.join(x))"
   ]
  },
  {
   "cell_type": "code",
   "execution_count": 85,
   "metadata": {},
   "outputs": [],
   "source": [
    "test.Dislikes=test.Dislikes.new1"
   ]
  },
  {
   "cell_type": "code",
   "execution_count": 88,
   "metadata": {},
   "outputs": [
    {
     "data": {
      "text/html": [
       "<div>\n",
       "<style scoped>\n",
       "    .dataframe tbody tr th:only-of-type {\n",
       "        vertical-align: middle;\n",
       "    }\n",
       "\n",
       "    .dataframe tbody tr th {\n",
       "        vertical-align: top;\n",
       "    }\n",
       "\n",
       "    .dataframe thead th {\n",
       "        text-align: right;\n",
       "    }\n",
       "</style>\n",
       "<table border=\"1\" class=\"dataframe\">\n",
       "  <thead>\n",
       "    <tr style=\"text-align: right;\">\n",
       "      <th></th>\n",
       "      <th>Link</th>\n",
       "      <th>Title</th>\n",
       "      <th>Likes</th>\n",
       "      <th>Dislikes</th>\n",
       "      <th>LDRatio</th>\n",
       "    </tr>\n",
       "  </thead>\n",
       "  <tbody>\n",
       "    <tr>\n",
       "      <th>0</th>\n",
       "      <td>https://youtube.com/watch?v=OGxgnH8y2NM&amp;list=P...</td>\n",
       "      <td>Practical Machine Learning Tutorial with Pytho...</td>\n",
       "      <td>14614</td>\n",
       "      <td>197</td>\n",
       "      <td>74.182741</td>\n",
       "    </tr>\n",
       "    <tr>\n",
       "      <th>1</th>\n",
       "      <td>https://youtube.com/watch?v=JcI5Vnw0b2c&amp;list=P...</td>\n",
       "      <td>Regression Intro - Practical Machine Learning ...</td>\n",
       "      <td>6314</td>\n",
       "      <td>136</td>\n",
       "      <td>46.426471</td>\n",
       "    </tr>\n",
       "    <tr>\n",
       "      <th>2</th>\n",
       "      <td>https://youtube.com/watch?v=lN5jesocJjk&amp;list=P...</td>\n",
       "      <td>Regression Features and Labels - Practical Mac...</td>\n",
       "      <td>2890</td>\n",
       "      <td>115</td>\n",
       "      <td>25.130435</td>\n",
       "    </tr>\n",
       "    <tr>\n",
       "      <th>3</th>\n",
       "      <td>https://youtube.com/watch?v=r4mwkS2T9aI&amp;list=P...</td>\n",
       "      <td>Regression Training and Testing - Practical Ma...</td>\n",
       "      <td>2189</td>\n",
       "      <td>78</td>\n",
       "      <td>28.064103</td>\n",
       "    </tr>\n",
       "    <tr>\n",
       "      <th>4</th>\n",
       "      <td>https://youtube.com/watch?v=QLVMqwpOLPk&amp;list=P...</td>\n",
       "      <td>Regression forecasting and predicting - Practi...</td>\n",
       "      <td>1413</td>\n",
       "      <td>86</td>\n",
       "      <td>16.430233</td>\n",
       "    </tr>\n",
       "  </tbody>\n",
       "</table>\n",
       "</div>"
      ],
      "text/plain": [
       "                                                Link  \\\n",
       "0  https://youtube.com/watch?v=OGxgnH8y2NM&list=P...   \n",
       "1  https://youtube.com/watch?v=JcI5Vnw0b2c&list=P...   \n",
       "2  https://youtube.com/watch?v=lN5jesocJjk&list=P...   \n",
       "3  https://youtube.com/watch?v=r4mwkS2T9aI&list=P...   \n",
       "4  https://youtube.com/watch?v=QLVMqwpOLPk&list=P...   \n",
       "\n",
       "                                               Title  Likes  Dislikes  \\\n",
       "0  Practical Machine Learning Tutorial with Pytho...  14614       197   \n",
       "1  Regression Intro - Practical Machine Learning ...   6314       136   \n",
       "2  Regression Features and Labels - Practical Mac...   2890       115   \n",
       "3  Regression Training and Testing - Practical Ma...   2189        78   \n",
       "4  Regression forecasting and predicting - Practi...   1413        86   \n",
       "\n",
       "     LDRatio  \n",
       "0  74.182741  \n",
       "1  46.426471  \n",
       "2  25.130435  \n",
       "3  28.064103  \n",
       "4  16.430233  "
      ]
     },
     "execution_count": 88,
     "metadata": {},
     "output_type": "execute_result"
    }
   ],
   "source": [
    "test.head()"
   ]
  },
  {
   "cell_type": "code",
   "execution_count": 87,
   "metadata": {},
   "outputs": [],
   "source": [
    "test['LDRatio'] = test.Likes/test.Dislikes"
   ]
  },
  {
   "cell_type": "code",
   "execution_count": 89,
   "metadata": {},
   "outputs": [
    {
     "data": {
      "text/plain": [
       "46.06666666666667"
      ]
     },
     "execution_count": 89,
     "metadata": {},
     "output_type": "execute_result"
    }
   ],
   "source": [
    "q2 = test.describe().iloc[5,2]\n",
    "q2"
   ]
  },
  {
   "cell_type": "code",
   "execution_count": 90,
   "metadata": {},
   "outputs": [],
   "source": [
    "x = []\n",
    "for i in test.LDRatio:\n",
    "    if i > q2:\n",
    "        x.append(1)\n",
    "    else:\n",
    "        x.append(0)\n",
    "test['Target'] = x"
   ]
  },
  {
   "cell_type": "code",
   "execution_count": 91,
   "metadata": {},
   "outputs": [
    {
     "data": {
      "text/html": [
       "<div>\n",
       "<style scoped>\n",
       "    .dataframe tbody tr th:only-of-type {\n",
       "        vertical-align: middle;\n",
       "    }\n",
       "\n",
       "    .dataframe tbody tr th {\n",
       "        vertical-align: top;\n",
       "    }\n",
       "\n",
       "    .dataframe thead th {\n",
       "        text-align: right;\n",
       "    }\n",
       "</style>\n",
       "<table border=\"1\" class=\"dataframe\">\n",
       "  <thead>\n",
       "    <tr style=\"text-align: right;\">\n",
       "      <th></th>\n",
       "      <th>Link</th>\n",
       "      <th>Title</th>\n",
       "      <th>Likes</th>\n",
       "      <th>Dislikes</th>\n",
       "      <th>LDRatio</th>\n",
       "      <th>Target</th>\n",
       "    </tr>\n",
       "  </thead>\n",
       "  <tbody>\n",
       "    <tr>\n",
       "      <th>0</th>\n",
       "      <td>https://youtube.com/watch?v=OGxgnH8y2NM&amp;list=P...</td>\n",
       "      <td>Practical Machine Learning Tutorial with Pytho...</td>\n",
       "      <td>14614</td>\n",
       "      <td>197</td>\n",
       "      <td>74.182741</td>\n",
       "      <td>1</td>\n",
       "    </tr>\n",
       "    <tr>\n",
       "      <th>1</th>\n",
       "      <td>https://youtube.com/watch?v=JcI5Vnw0b2c&amp;list=P...</td>\n",
       "      <td>Regression Intro - Practical Machine Learning ...</td>\n",
       "      <td>6314</td>\n",
       "      <td>136</td>\n",
       "      <td>46.426471</td>\n",
       "      <td>1</td>\n",
       "    </tr>\n",
       "    <tr>\n",
       "      <th>2</th>\n",
       "      <td>https://youtube.com/watch?v=lN5jesocJjk&amp;list=P...</td>\n",
       "      <td>Regression Features and Labels - Practical Mac...</td>\n",
       "      <td>2890</td>\n",
       "      <td>115</td>\n",
       "      <td>25.130435</td>\n",
       "      <td>0</td>\n",
       "    </tr>\n",
       "    <tr>\n",
       "      <th>3</th>\n",
       "      <td>https://youtube.com/watch?v=r4mwkS2T9aI&amp;list=P...</td>\n",
       "      <td>Regression Training and Testing - Practical Ma...</td>\n",
       "      <td>2189</td>\n",
       "      <td>78</td>\n",
       "      <td>28.064103</td>\n",
       "      <td>0</td>\n",
       "    </tr>\n",
       "    <tr>\n",
       "      <th>4</th>\n",
       "      <td>https://youtube.com/watch?v=QLVMqwpOLPk&amp;list=P...</td>\n",
       "      <td>Regression forecasting and predicting - Practi...</td>\n",
       "      <td>1413</td>\n",
       "      <td>86</td>\n",
       "      <td>16.430233</td>\n",
       "      <td>0</td>\n",
       "    </tr>\n",
       "  </tbody>\n",
       "</table>\n",
       "</div>"
      ],
      "text/plain": [
       "                                                Link  \\\n",
       "0  https://youtube.com/watch?v=OGxgnH8y2NM&list=P...   \n",
       "1  https://youtube.com/watch?v=JcI5Vnw0b2c&list=P...   \n",
       "2  https://youtube.com/watch?v=lN5jesocJjk&list=P...   \n",
       "3  https://youtube.com/watch?v=r4mwkS2T9aI&list=P...   \n",
       "4  https://youtube.com/watch?v=QLVMqwpOLPk&list=P...   \n",
       "\n",
       "                                               Title  Likes  Dislikes  \\\n",
       "0  Practical Machine Learning Tutorial with Pytho...  14614       197   \n",
       "1  Regression Intro - Practical Machine Learning ...   6314       136   \n",
       "2  Regression Features and Labels - Practical Mac...   2890       115   \n",
       "3  Regression Training and Testing - Practical Ma...   2189        78   \n",
       "4  Regression forecasting and predicting - Practi...   1413        86   \n",
       "\n",
       "     LDRatio  Target  \n",
       "0  74.182741       1  \n",
       "1  46.426471       1  \n",
       "2  25.130435       0  \n",
       "3  28.064103       0  \n",
       "4  16.430233       0  "
      ]
     },
     "execution_count": 91,
     "metadata": {},
     "output_type": "execute_result"
    }
   ],
   "source": [
    "test.head()"
   ]
  },
  {
   "cell_type": "markdown",
   "metadata": {},
   "source": [
    "# Bag of Words"
   ]
  },
  {
   "cell_type": "code",
   "execution_count": 92,
   "metadata": {},
   "outputs": [],
   "source": [
    "from nltk.tokenize import word_tokenize\n",
    "text=list(test.Title.str.lower())\n",
    "docs=[]\n",
    "for i in text:\n",
    "    docs.append(word_tokenize(i))"
   ]
  },
  {
   "cell_type": "code",
   "execution_count": 93,
   "metadata": {},
   "outputs": [
    {
     "data": {
      "text/plain": [
       "[['practical',\n",
       "  'machine',\n",
       "  'learning',\n",
       "  'tutorial',\n",
       "  'with',\n",
       "  'python',\n",
       "  'intro',\n",
       "  'p.1'],\n",
       " ['regression',\n",
       "  'intro',\n",
       "  '-',\n",
       "  'practical',\n",
       "  'machine',\n",
       "  'learning',\n",
       "  'tutorial',\n",
       "  'with',\n",
       "  'python',\n",
       "  'p.2']]"
      ]
     },
     "execution_count": 93,
     "metadata": {},
     "output_type": "execute_result"
    }
   ],
   "source": [
    "docs[:2]"
   ]
  },
  {
   "cell_type": "code",
   "execution_count": 94,
   "metadata": {},
   "outputs": [
    {
     "data": {
      "text/plain": [
       "['practical machine learning tutorial with python intro p.1',\n",
       " 'regression intro - practical machine learning tutorial with python p.2']"
      ]
     },
     "execution_count": 94,
     "metadata": {},
     "output_type": "execute_result"
    }
   ],
   "source": [
    "text[:2]"
   ]
  },
  {
   "cell_type": "markdown",
   "metadata": {},
   "source": [
    "# Stemming"
   ]
  },
  {
   "cell_type": "code",
   "execution_count": 95,
   "metadata": {},
   "outputs": [
    {
     "name": "stdout",
     "output_type": "stream",
     "text": [
      "[['practic', 'machin', 'learn', 'tutori', 'with', 'python', 'intro', 'p.1'], ['regress', 'intro', '-', 'practic', 'machin', 'learn', 'tutori', 'with', 'python', 'p.2'], ['regress', 'featur', 'and', 'label', '-', 'practic', 'machin', 'learn', 'tutori', 'with', 'python', 'p.3'], ['regress', 'train', 'and', 'test', '-', 'practic', 'machin', 'learn', 'tutori', 'with', 'python', 'p.4'], ['regress', 'forecast', 'and', 'predict', '-', 'practic', 'machin', 'learn', 'tutori', 'with', 'python', 'p.5']]\n"
     ]
    }
   ],
   "source": [
    "from nltk.stem import PorterStemmer\n",
    "\n",
    "PS=PorterStemmer()\n",
    "stemmed_doc=[]\n",
    "\n",
    "for doc in docs:\n",
    "    d=[]\n",
    "    for i in doc:\n",
    "        d.append(PS.stem(i))\n",
    "    stemmed_doc.append(d)\n",
    "print(stemmed_doc[:5])    \n"
   ]
  },
  {
   "cell_type": "markdown",
   "metadata": {},
   "source": [
    "# Removal of StopWords"
   ]
  },
  {
   "cell_type": "code",
   "execution_count": 97,
   "metadata": {},
   "outputs": [],
   "source": [
    "from nltk.corpus import stopwords\n",
    "SW=set(stopwords.words(\"english\"))"
   ]
  },
  {
   "cell_type": "code",
   "execution_count": 98,
   "metadata": {},
   "outputs": [],
   "source": [
    "### Joining the docs sentences"
   ]
  },
  {
   "cell_type": "code",
   "execution_count": 99,
   "metadata": {},
   "outputs": [],
   "source": [
    "sentences=[]\n",
    "for i in stemmed_doc:\n",
    "    sentences.append(\" \".join(i))"
   ]
  },
  {
   "cell_type": "code",
   "execution_count": 100,
   "metadata": {},
   "outputs": [
    {
     "data": {
      "text/plain": [
       "['practic machin learn tutori with python intro p.1',\n",
       " 'regress intro - practic machin learn tutori with python p.2']"
      ]
     },
     "execution_count": 100,
     "metadata": {},
     "output_type": "execute_result"
    }
   ],
   "source": [
    "sentences[:2]"
   ]
  },
  {
   "cell_type": "code",
   "execution_count": 128,
   "metadata": {},
   "outputs": [],
   "source": [
    "x = []\n",
    "for i in stemmed_doc:\n",
    "    for j in i:\n",
    "        if not(j in SW):\n",
    "            x.append(j)"
   ]
  },
  {
   "cell_type": "code",
   "execution_count": 131,
   "metadata": {},
   "outputs": [],
   "source": [
    "fdist = FreqDist(word_tokenize(' '.join(x)))"
   ]
  },
  {
   "cell_type": "code",
   "execution_count": 132,
   "metadata": {},
   "outputs": [],
   "source": [
    "count = 0\n",
    "for i in fdist.elements():\n",
    "    count = count + 1"
   ]
  },
  {
   "cell_type": "code",
   "execution_count": 134,
   "metadata": {},
   "outputs": [
    {
     "data": {
      "text/plain": [
       "564"
      ]
     },
     "execution_count": 134,
     "metadata": {},
     "output_type": "execute_result"
    }
   ],
   "source": [
    "count"
   ]
  },
  {
   "cell_type": "code",
   "execution_count": 135,
   "metadata": {},
   "outputs": [
    {
     "data": {
      "image/png": "[encoded data removed]",
      "text/plain": [
       "<Figure size 1080x216 with 1 Axes>"
      ]
     },
     "metadata": {
      "needs_background": "light"
     },
     "output_type": "display_data"
    }
   ],
   "source": [
    "from matplotlib import rcParams\n",
    "rcParams['figure.figsize'] = 15,3\n",
    "fdist.plot(50)\n",
    "plt.show()"
   ]
  },
  {
   "cell_type": "code",
   "execution_count": 106,
   "metadata": {},
   "outputs": [],
   "source": [
    "# all_text=\"\"\n",
    "# for j in sentences:\n",
    "#     all_text=all_text + j + \" \"\n",
    "# all_text = re.sub(r'[\\.\\(\\-\\)/\\d\\']', '', all_text)"
   ]
  },
  {
   "cell_type": "code",
   "execution_count": 108,
   "metadata": {},
   "outputs": [],
   "source": [
    "# all_text[:2]"
   ]
  },
  {
   "cell_type": "code",
   "execution_count": 118,
   "metadata": {},
   "outputs": [
    {
     "data": {
      "text/plain": [
       "list"
      ]
     },
     "execution_count": 118,
     "metadata": {},
     "output_type": "execute_result"
    }
   ],
   "source": [
    "type(sentences)"
   ]
  },
  {
   "cell_type": "code",
   "execution_count": 121,
   "metadata": {},
   "outputs": [],
   "source": [
    "## After observing the Frequency graph we find new Stop words"
   ]
  },
  {
   "cell_type": "code",
   "execution_count": 122,
   "metadata": {},
   "outputs": [],
   "source": [
    "SW = SW.union(set(['with', 'p', 'learn', 'machin', 'practic', 'python']))"
   ]
  },
  {
   "cell_type": "code",
   "execution_count": 123,
   "metadata": {},
   "outputs": [],
   "source": [
    "# ## Stemmed doc is appended to get the sentences\n",
    "# for just frequency graph"
   ]
  },
  {
   "cell_type": "code",
   "execution_count": 124,
   "metadata": {},
   "outputs": [],
   "source": [
    "processed_docs=[]\n",
    "\n",
    "for i in stemmed_doc:\n",
    "    j=word_tokenize(re.sub(r'[\\.\\(\\-\\)/\\d\\']', '', \" \".join(i)))\n",
    "    new_doc=[]\n",
    "    for k in j:\n",
    "        if not(k in SW):\n",
    "            new_doc.append(k)\n",
    "    processed_docs.append(new_doc)"
   ]
  },
  {
   "cell_type": "code",
   "execution_count": 126,
   "metadata": {},
   "outputs": [
    {
     "data": {
      "text/plain": [
       "[['tutori', 'intro'],\n",
       " ['regress', 'intro', 'tutori'],\n",
       " ['regress', 'featur', 'label', 'tutori']]"
      ]
     },
     "execution_count": 126,
     "metadata": {},
     "output_type": "execute_result"
    }
   ],
   "source": [
    "processed_docs[:3]"
   ]
  },
  {
   "cell_type": "code",
   "execution_count": 127,
   "metadata": {},
   "outputs": [
    {
     "data": {
      "text/plain": [
       "['tutori intro',\n",
       " 'regress intro tutori',\n",
       " 'regress featur label tutori',\n",
       " 'regress train test tutori',\n",
       " 'regress forecast predict tutori']"
      ]
     },
     "execution_count": 127,
     "metadata": {},
     "output_type": "execute_result"
    }
   ],
   "source": [
    "final_processed_docs = []\n",
    "for i in processed_docs:\n",
    "    final_processed_docs.append(' '.join(i))\n",
    "final_processed_docs[:5]"
   ]
  },
  {
   "cell_type": "code",
   "execution_count": null,
   "metadata": {},
   "outputs": [],
   "source": []
  }
 ],
 "metadata": {
  "kernelspec": {
   "display_name": "Python 3",
   "language": "python",
   "name": "python3"
  },
  "language_info": {
   "codemirror_mode": {
    "name": "ipython",
    "version": 3
   },
   "file_extension": ".py",
   "mimetype": "text/x-python",
   "name": "python",
   "nbconvert_exporter": "python",
   "pygments_lexer": "ipython3",
   "version": "3.7.1"
  },
  "toc": {
   "base_numbering": 1,
   "nav_menu": {},
   "number_sections": true,
   "sideBar": true,
   "skip_h1_title": false,
   "title_cell": "Table of Contents",
   "title_sidebar": "Contents",
   "toc_cell": false,
   "toc_position": {},
   "toc_section_display": true,
   "toc_window_display": false
  }
 },
 "nbformat": 4,
 "nbformat_minor": 2
}
