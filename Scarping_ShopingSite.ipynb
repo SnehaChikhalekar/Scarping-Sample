{
 "cells": [
  {
   "cell_type": "code",
   "execution_count": 1,
   "metadata": {},
   "outputs": [],
   "source": [
    "import requests\n",
    "from bs4 import BeautifulSoup"
   ]
  },
  {
   "cell_type": "code",
   "execution_count": 2,
   "metadata": {},
   "outputs": [],
   "source": [
    "result=requests.get(\"https://www.flipkart.com/all/~cs-e5rssj2g64/pr?sid=all&wid=12.productCard.PMU_V2_9\")"
   ]
  },
  {
   "cell_type": "code",
   "execution_count": 3,
   "metadata": {},
   "outputs": [],
   "source": [
    "src=result.content\n",
    "soup=BeautifulSoup(src,'lxml')"
   ]
  },
  {
   "cell_type": "code",
   "execution_count": 5,
   "metadata": {},
   "outputs": [],
   "source": [
    "#soup"
   ]
  },
  {
   "cell_type": "code",
   "execution_count": 24,
   "metadata": {},
   "outputs": [],
   "source": [
    "import re\n",
    "import pandas as pd\n",
    "products = []\n",
    "\n",
    "import re\n",
    "for link in soup.find_all('a',{\"class\":\"_2cLu-l\"}):\n",
    "    #print(link['title'])\n",
    "    products.append(link['title'])"
   ]
  },
  {
   "cell_type": "code",
   "execution_count": 49,
   "metadata": {},
   "outputs": [],
   "source": [
    "stars =[]\n",
    "for link in soup.find_all('div',{\"class\":\"hGSR34\"}):\n",
    "    #print(link.text)\n",
    "    stars.append(link.text)"
   ]
  },
  {
   "cell_type": "code",
   "execution_count": 121,
   "metadata": {},
   "outputs": [
    {
     "name": "stdout",
     "output_type": "stream",
     "text": [
      "sneha\n",
      "hii\n",
      "sneha\n",
      "hii\n",
      "sneha\n",
      "hii\n",
      "sneha\n",
      "hii\n",
      "sneha\n",
      "hii\n",
      "sneha\n",
      "hii\n",
      "sneha\n",
      "hii\n",
      "sneha\n",
      "hii\n",
      "sneha\n",
      "hii\n",
      "sneha\n",
      "hii\n"
     ]
    }
   ],
   "source": [
    "count=0\n",
    "reviews =[]\n",
    "for link in soup.find_all('div',{\"class\":\"qwjRop\"}):\n",
    "    print(\"sneha\")\n",
    "    for i in link:\n",
    "        print(\"hii\")\n",
    "        reviews.append(i.text)"
   ]
  },
  {
   "cell_type": "code",
   "execution_count": 143,
   "metadata": {},
   "outputs": [
    {
     "name": "stdout",
     "output_type": "stream",
     "text": [
      "1. HP DeskJet Ink Advantage 21...\n",
      "2. Samsung 23.6 inch Curved Fu...\n",
      "3. HP Ink Tank WL 410 Multi-fu...\n",
      "4. HP LaserJet 1020 Plus Singl...\n",
      "5. Epson L3150 Multi-function ...\n"
     ]
    }
   ],
   "source": [
    "prd =[]\n",
    "for link in soup.find_all('div',{\"class\":\"_2hJpKs\"}):\n",
    "    print(link.text)\n",
    "    prd.append(link.text)\n",
    "#     for i in link:\n",
    "#         print(\"hii\")\n",
    "#         reviews.append(i.text)"
   ]
  },
  {
   "cell_type": "code",
   "execution_count": 144,
   "metadata": {},
   "outputs": [
    {
     "data": {
      "text/plain": [
       "['1. HP DeskJet Ink Advantage 21...',\n",
       " '2. Samsung 23.6 inch Curved Fu...',\n",
       " '3. HP Ink Tank WL 410 Multi-fu...',\n",
       " '4. HP LaserJet 1020 Plus Singl...',\n",
       " '5. Epson L3150 Multi-function ...']"
      ]
     },
     "execution_count": 144,
     "metadata": {},
     "output_type": "execute_result"
    }
   ],
   "source": [
    "prd"
   ]
  },
  {
   "cell_type": "code",
   "execution_count": 145,
   "metadata": {},
   "outputs": [
    {
     "name": "stdout",
     "output_type": "stream",
     "text": [
      "First of all thanks to Flipkart for the quick delivery. Ordered it on 26th Feb afternoon and received it on 27th morning. Kudos to you guys.Now coming to t...Read full review\n",
      "Superb, Everything is Fine, Only Con is That Ink Of This Printer is a Bit Expensive as Compare to Others.Read full review\n",
      "A new experience. It's a very good monitor. My ratings are:For movies - 10/10( 1080p or Blu-ray; you will stunned.)For Games - 10/10 (Thanks for gaming mod...Read full review\n",
      "Awesome Product...looks soo premium....would have rated 5 if the handling of my product would have done better.Read full review\n",
      "Best Printer. Got for 8000 in Flipkart Big Billion Days. Ink filling is spill free and easy. Xerox and Scanner works perfectly fine no issues. Mobile Printin...Read full review\n",
      "Good Product. Have been using for an year now both Hp and Flipkart provided pretty good service and the the printer provides all stuff which are required for...Read full review\n",
      "Long time ago not many years buy a few years agoIt is the time when hp and canon were brotherscanon used to give hp technologyand they came with this suc...Read full review\n",
      "good product...with manual functions.you need to take out prints and put back again to take print on both sides.operations possible when connected with you...Read full review\n",
      "Delivered by Flipkart as promised. The print quality for black and white is very good. Scanning and copy quality is also good. The photo print on glassy pape...Read full review\n",
      "Installation demo in CD gives me easy to install in my computer, working properly and I am comfortable with the productRead full review\n"
     ]
    }
   ],
   "source": [
    "reviews=[]\n",
    "for link in soup.find_all('div',{\"class\":\"_2Otlc1\"}):\n",
    "    for i in link('div',{\"class\":\"qwjRop\"}):\n",
    "        for j in i:\n",
    "            print(j.text)\n",
    "            reviews.append(j.text)"
   ]
  },
  {
   "cell_type": "code",
   "execution_count": 160,
   "metadata": {},
   "outputs": [],
   "source": [
    "#final_reviews=[]\n",
    "new_reviews=[]\n",
    "for i,j in enumerate(reviews):\n",
    "#     if(i==0):\n",
    "#         new_reviews.append(j)\n",
    "    if(i %2!=0):\n",
    "        new_reviews.append(j+\" \"+reviews[i-1])\n",
    "#     print(i)\n",
    "#     if(i%2!=0):\n",
    "#         final_reviews.append(j)"
   ]
  },
  {
   "cell_type": "code",
   "execution_count": 162,
   "metadata": {},
   "outputs": [
    {
     "data": {
      "text/plain": [
       "5"
      ]
     },
     "execution_count": 162,
     "metadata": {},
     "output_type": "execute_result"
    }
   ],
   "source": [
    "len(new_reviews)"
   ]
  },
  {
   "cell_type": "code",
   "execution_count": 161,
   "metadata": {},
   "outputs": [
    {
     "data": {
      "text/plain": [
       "['Superb, Everything is Fine, Only Con is That Ink Of This Printer is a Bit Expensive as Compare to Others.Read full review First of all thanks to Flipkart for the quick delivery. Ordered it on 26th Feb afternoon and received it on 27th morning. Kudos to you guys.Now coming to t...Read full review',\n",
       " \"Awesome Product...looks soo premium....would have rated 5 if the handling of my product would have done better.Read full review A new experience. It's a very good monitor. My ratings are:For movies - 10/10( 1080p or Blu-ray; you will stunned.)For Games - 10/10 (Thanks for gaming mod...Read full review\",\n",
       " 'Good Product. Have been using for an year now both Hp and Flipkart provided pretty good service and the the printer provides all stuff which are required for...Read full review Best Printer. Got for 8000 in Flipkart Big Billion Days. Ink filling is spill free and easy. Xerox and Scanner works perfectly fine no issues. Mobile Printin...Read full review',\n",
       " 'good product...with manual functions.you need to take out prints and put back again to take print on both sides.operations possible when connected with you...Read full review Long time ago not many years buy a few years agoIt is the time when hp and canon were brotherscanon used to give hp technologyand they came with this suc...Read full review',\n",
       " 'Installation demo in CD gives me easy to install in my computer, working properly and I am comfortable with the productRead full review Delivered by Flipkart as promised. The print quality for black and white is very good. Scanning and copy quality is also good. The photo print on glassy pape...Read full review']"
      ]
     },
     "execution_count": 161,
     "metadata": {},
     "output_type": "execute_result"
    }
   ],
   "source": [
    "new_reviews"
   ]
  },
  {
   "cell_type": "code",
   "execution_count": 157,
   "metadata": {},
   "outputs": [
    {
     "name": "stdout",
     "output_type": "stream",
     "text": [
      "0\n",
      "1\n",
      "2\n",
      "3\n",
      "4\n",
      "5\n",
      "6\n",
      "7\n",
      "8\n",
      "9\n"
     ]
    }
   ],
   "source": [
    "for i,j in enumerate(reviews):\n",
    "    print(i)\n",
    "    if(i%2!=0):\n",
    "        final_reviews.append(j)"
   ]
  },
  {
   "cell_type": "code",
   "execution_count": 155,
   "metadata": {},
   "outputs": [
    {
     "data": {
      "text/plain": [
       "9"
      ]
     },
     "execution_count": 155,
     "metadata": {},
     "output_type": "execute_result"
    }
   ],
   "source": [
    "len(new_reviews)"
   ]
  },
  {
   "cell_type": "code",
   "execution_count": 158,
   "metadata": {},
   "outputs": [
    {
     "data": {
      "text/plain": [
       "5"
      ]
     },
     "execution_count": 158,
     "metadata": {},
     "output_type": "execute_result"
    }
   ],
   "source": [
    "len(final_reviews)"
   ]
  },
  {
   "cell_type": "code",
   "execution_count": 58,
   "metadata": {},
   "outputs": [
    {
     "name": "stdout",
     "output_type": "stream",
     "text": [
      "36\n",
      "36\n"
     ]
    }
   ],
   "source": [
    "print(len(products))\n",
    "print(len(stars))"
   ]
  },
  {
   "cell_type": "code",
   "execution_count": 57,
   "metadata": {},
   "outputs": [],
   "source": [
    "stars=stars[:36]"
   ]
  },
  {
   "cell_type": "code",
   "execution_count": 59,
   "metadata": {},
   "outputs": [],
   "source": [
    "df=pd.DataFrame({\"Products\":products,\"Stars\":stars})"
   ]
  },
  {
   "cell_type": "code",
   "execution_count": 60,
   "metadata": {},
   "outputs": [
    {
     "data": {
      "text/html": [
       "<div>\n",
       "<style scoped>\n",
       "    .dataframe tbody tr th:only-of-type {\n",
       "        vertical-align: middle;\n",
       "    }\n",
       "\n",
       "    .dataframe tbody tr th {\n",
       "        vertical-align: top;\n",
       "    }\n",
       "\n",
       "    .dataframe thead th {\n",
       "        text-align: right;\n",
       "    }\n",
       "</style>\n",
       "<table border=\"1\" class=\"dataframe\">\n",
       "  <thead>\n",
       "    <tr style=\"text-align: right;\">\n",
       "      <th></th>\n",
       "      <th>Products</th>\n",
       "      <th>Stars</th>\n",
       "    </tr>\n",
       "  </thead>\n",
       "  <tbody>\n",
       "    <tr>\n",
       "      <th>0</th>\n",
       "      <td>Canon Pixma G 2000 Multi-function Printer</td>\n",
       "      <td>4.3</td>\n",
       "    </tr>\n",
       "    <tr>\n",
       "      <th>1</th>\n",
       "      <td>HP DeskJet Ink Advantage 3835 All-in-One Multi...</td>\n",
       "      <td>4.3</td>\n",
       "    </tr>\n",
       "    <tr>\n",
       "      <th>2</th>\n",
       "      <td>Acer 19.5 inch HD+ LED Backlit Monitor (V206HQL)</td>\n",
       "      <td>4.3</td>\n",
       "    </tr>\n",
       "    <tr>\n",
       "      <th>3</th>\n",
       "      <td>Egate EG I9 (BLACK) Portable Projector</td>\n",
       "      <td>4</td>\n",
       "    </tr>\n",
       "    <tr>\n",
       "      <th>4</th>\n",
       "      <td>Dell 22 inch Full HD Monitor (E2218HN)</td>\n",
       "      <td>4.4</td>\n",
       "    </tr>\n",
       "    <tr>\n",
       "      <th>5</th>\n",
       "      <td>LG 18.5 inches HD LED Backlit Monitor (19M38AB)</td>\n",
       "      <td>4.3</td>\n",
       "    </tr>\n",
       "    <tr>\n",
       "      <th>6</th>\n",
       "      <td>Epson L3110 Multi-function Printer</td>\n",
       "      <td>4.2</td>\n",
       "    </tr>\n",
       "    <tr>\n",
       "      <th>7</th>\n",
       "      <td>HP 680 combo pack Multi Color Ink Cartridge</td>\n",
       "      <td>4.3</td>\n",
       "    </tr>\n",
       "    <tr>\n",
       "      <th>8</th>\n",
       "      <td>HP LaserJet 1020 Plus Single Function Printer</td>\n",
       "      <td>4.5</td>\n",
       "    </tr>\n",
       "    <tr>\n",
       "      <th>9</th>\n",
       "      <td>HP DeskJet Ink Advantage 2135 All-in-One Printer</td>\n",
       "      <td>4.2</td>\n",
       "    </tr>\n",
       "    <tr>\n",
       "      <th>10</th>\n",
       "      <td>Epson L3150 Multi-function Wireless Printer</td>\n",
       "      <td>4.3</td>\n",
       "    </tr>\n",
       "    <tr>\n",
       "      <th>11</th>\n",
       "      <td>HP DeskJet Ink Advantage 2138 Multi-function P...</td>\n",
       "      <td>4.2</td>\n",
       "    </tr>\n",
       "    <tr>\n",
       "      <th>12</th>\n",
       "      <td>Brother DCP-T510W IND Multi-function Wireless ...</td>\n",
       "      <td>4.4</td>\n",
       "    </tr>\n",
       "    <tr>\n",
       "      <th>13</th>\n",
       "      <td>HP 23.8 inch Full HD LED Backlit IPS Panel Mon...</td>\n",
       "      <td>4.6</td>\n",
       "    </tr>\n",
       "    <tr>\n",
       "      <th>14</th>\n",
       "      <td>Canon LBP 2900B Single Function Printer</td>\n",
       "      <td>4.4</td>\n",
       "    </tr>\n",
       "    <tr>\n",
       "      <th>15</th>\n",
       "      <td>HP Ink Tank WL 410 Multi-function Wireless Pri...</td>\n",
       "      <td>4.3</td>\n",
       "    </tr>\n",
       "    <tr>\n",
       "      <th>16</th>\n",
       "      <td>HP LaserJet Pro M1136 MFP Multi-function Printer</td>\n",
       "      <td>4.4</td>\n",
       "    </tr>\n",
       "    <tr>\n",
       "      <th>17</th>\n",
       "      <td>LG 22 inch Full HD LED Backlit IPS Panel Monit...</td>\n",
       "      <td>4.5</td>\n",
       "    </tr>\n",
       "    <tr>\n",
       "      <th>18</th>\n",
       "      <td>Mantra MFS100 Biometric Fingerprint USB Device...</td>\n",
       "      <td>4.3</td>\n",
       "    </tr>\n",
       "    <tr>\n",
       "      <th>19</th>\n",
       "      <td>Samsung 23.6 inch Curved Full HD LED Backlit M...</td>\n",
       "      <td>4.5</td>\n",
       "    </tr>\n",
       "    <tr>\n",
       "      <th>20</th>\n",
       "      <td>Samsung 24 inch Full HD IPS Panel Monitor (LS2...</td>\n",
       "      <td>4.5</td>\n",
       "    </tr>\n",
       "    <tr>\n",
       "      <th>21</th>\n",
       "      <td>Epson EB-S41 Projector</td>\n",
       "      <td>4.5</td>\n",
       "    </tr>\n",
       "    <tr>\n",
       "      <th>22</th>\n",
       "      <td>Epson M200 Multi Function Printer</td>\n",
       "      <td>4.3</td>\n",
       "    </tr>\n",
       "    <tr>\n",
       "      <th>23</th>\n",
       "      <td>LG 20 inch HD Monitor (20MK400A)</td>\n",
       "      <td>4.2</td>\n",
       "    </tr>\n",
       "    <tr>\n",
       "      <th>24</th>\n",
       "      <td>HP LaserJet Pro MFP M126nw Multi-function Wire...</td>\n",
       "      <td>4.3</td>\n",
       "    </tr>\n",
       "    <tr>\n",
       "      <th>25</th>\n",
       "      <td>HP DeskJet 2131 All-in-One Printer</td>\n",
       "      <td>3.9</td>\n",
       "    </tr>\n",
       "    <tr>\n",
       "      <th>26</th>\n",
       "      <td>vivibright C80 2200Lumns 1280x720 Resolution H...</td>\n",
       "      <td>4</td>\n",
       "    </tr>\n",
       "    <tr>\n",
       "      <th>27</th>\n",
       "      <td>Epson L130 Single Function Inkjet Printer</td>\n",
       "      <td>4.2</td>\n",
       "    </tr>\n",
       "    <tr>\n",
       "      <th>28</th>\n",
       "      <td>Canon Pixma Ink Efficent G1010 Single Function...</td>\n",
       "      <td>4.2</td>\n",
       "    </tr>\n",
       "    <tr>\n",
       "      <th>29</th>\n",
       "      <td>Canon E560 Multi-function Wireless Printer</td>\n",
       "      <td>4</td>\n",
       "    </tr>\n",
       "    <tr>\n",
       "      <th>30</th>\n",
       "      <td>Acer 21.5 inch Full HD Monitor (K222HQL)</td>\n",
       "      <td>4.2</td>\n",
       "    </tr>\n",
       "    <tr>\n",
       "      <th>31</th>\n",
       "      <td>LG 24 inch Full HD LED Backlit IPS Panel Monit...</td>\n",
       "      <td>4.4</td>\n",
       "    </tr>\n",
       "    <tr>\n",
       "      <th>32</th>\n",
       "      <td>Boss S3 3000 LED HD Portable Projector</td>\n",
       "      <td>4</td>\n",
       "    </tr>\n",
       "    <tr>\n",
       "      <th>33</th>\n",
       "      <td>HP LaserJet Ultra MFP M134a Multi-function Pri...</td>\n",
       "      <td>4</td>\n",
       "    </tr>\n",
       "    <tr>\n",
       "      <th>34</th>\n",
       "      <td>Canon PIXMA MG2470 All-in-One Inkjet Printer</td>\n",
       "      <td>3.7</td>\n",
       "    </tr>\n",
       "    <tr>\n",
       "      <th>35</th>\n",
       "      <td>HP DeskJet 1112 Single Function Printer</td>\n",
       "      <td>3.8</td>\n",
       "    </tr>\n",
       "  </tbody>\n",
       "</table>\n",
       "</div>"
      ],
      "text/plain": [
       "                                             Products Stars\n",
       "0           Canon Pixma G 2000 Multi-function Printer   4.3\n",
       "1   HP DeskJet Ink Advantage 3835 All-in-One Multi...   4.3\n",
       "2    Acer 19.5 inch HD+ LED Backlit Monitor (V206HQL)   4.3\n",
       "3              Egate EG I9 (BLACK) Portable Projector     4\n",
       "4              Dell 22 inch Full HD Monitor (E2218HN)   4.4\n",
       "5     LG 18.5 inches HD LED Backlit Monitor (19M38AB)   4.3\n",
       "6                  Epson L3110 Multi-function Printer   4.2\n",
       "7         HP 680 combo pack Multi Color Ink Cartridge   4.3\n",
       "8       HP LaserJet 1020 Plus Single Function Printer   4.5\n",
       "9    HP DeskJet Ink Advantage 2135 All-in-One Printer   4.2\n",
       "10        Epson L3150 Multi-function Wireless Printer   4.3\n",
       "11  HP DeskJet Ink Advantage 2138 Multi-function P...   4.2\n",
       "12  Brother DCP-T510W IND Multi-function Wireless ...   4.4\n",
       "13  HP 23.8 inch Full HD LED Backlit IPS Panel Mon...   4.6\n",
       "14            Canon LBP 2900B Single Function Printer   4.4\n",
       "15  HP Ink Tank WL 410 Multi-function Wireless Pri...   4.3\n",
       "16   HP LaserJet Pro M1136 MFP Multi-function Printer   4.4\n",
       "17  LG 22 inch Full HD LED Backlit IPS Panel Monit...   4.5\n",
       "18  Mantra MFS100 Biometric Fingerprint USB Device...   4.3\n",
       "19  Samsung 23.6 inch Curved Full HD LED Backlit M...   4.5\n",
       "20  Samsung 24 inch Full HD IPS Panel Monitor (LS2...   4.5\n",
       "21                             Epson EB-S41 Projector   4.5\n",
       "22                  Epson M200 Multi Function Printer   4.3\n",
       "23                   LG 20 inch HD Monitor (20MK400A)   4.2\n",
       "24  HP LaserJet Pro MFP M126nw Multi-function Wire...   4.3\n",
       "25                 HP DeskJet 2131 All-in-One Printer   3.9\n",
       "26  vivibright C80 2200Lumns 1280x720 Resolution H...     4\n",
       "27          Epson L130 Single Function Inkjet Printer   4.2\n",
       "28  Canon Pixma Ink Efficent G1010 Single Function...   4.2\n",
       "29         Canon E560 Multi-function Wireless Printer     4\n",
       "30           Acer 21.5 inch Full HD Monitor (K222HQL)   4.2\n",
       "31  LG 24 inch Full HD LED Backlit IPS Panel Monit...   4.4\n",
       "32             Boss S3 3000 LED HD Portable Projector     4\n",
       "33  HP LaserJet Ultra MFP M134a Multi-function Pri...     4\n",
       "34       Canon PIXMA MG2470 All-in-One Inkjet Printer   3.7\n",
       "35            HP DeskJet 1112 Single Function Printer   3.8"
      ]
     },
     "execution_count": 60,
     "metadata": {},
     "output_type": "execute_result"
    }
   ],
   "source": [
    "df"
   ]
  },
  {
   "cell_type": "code",
   "execution_count": 163,
   "metadata": {},
   "outputs": [],
   "source": [
    "new_df=pd.DataFrame({\"Products_new\":prd,\"Reviews\":new_reviews})"
   ]
  },
  {
   "cell_type": "code",
   "execution_count": 164,
   "metadata": {},
   "outputs": [
    {
     "data": {
      "text/html": [
       "<div>\n",
       "<style scoped>\n",
       "    .dataframe tbody tr th:only-of-type {\n",
       "        vertical-align: middle;\n",
       "    }\n",
       "\n",
       "    .dataframe tbody tr th {\n",
       "        vertical-align: top;\n",
       "    }\n",
       "\n",
       "    .dataframe thead th {\n",
       "        text-align: right;\n",
       "    }\n",
       "</style>\n",
       "<table border=\"1\" class=\"dataframe\">\n",
       "  <thead>\n",
       "    <tr style=\"text-align: right;\">\n",
       "      <th></th>\n",
       "      <th>Products_new</th>\n",
       "      <th>Reviews</th>\n",
       "    </tr>\n",
       "  </thead>\n",
       "  <tbody>\n",
       "    <tr>\n",
       "      <th>0</th>\n",
       "      <td>1. HP DeskJet Ink Advantage 21...</td>\n",
       "      <td>Superb, Everything is Fine, Only Con is That I...</td>\n",
       "    </tr>\n",
       "    <tr>\n",
       "      <th>1</th>\n",
       "      <td>2. Samsung 23.6 inch Curved Fu...</td>\n",
       "      <td>Awesome Product...looks soo premium....would h...</td>\n",
       "    </tr>\n",
       "    <tr>\n",
       "      <th>2</th>\n",
       "      <td>3. HP Ink Tank WL 410 Multi-fu...</td>\n",
       "      <td>Good Product. Have been using for an year now ...</td>\n",
       "    </tr>\n",
       "    <tr>\n",
       "      <th>3</th>\n",
       "      <td>4. HP LaserJet 1020 Plus Singl...</td>\n",
       "      <td>good product...with manual functions.you need ...</td>\n",
       "    </tr>\n",
       "    <tr>\n",
       "      <th>4</th>\n",
       "      <td>5. Epson L3150 Multi-function ...</td>\n",
       "      <td>Installation demo in CD gives me easy to insta...</td>\n",
       "    </tr>\n",
       "  </tbody>\n",
       "</table>\n",
       "</div>"
      ],
      "text/plain": [
       "                        Products_new  \\\n",
       "0  1. HP DeskJet Ink Advantage 21...   \n",
       "1  2. Samsung 23.6 inch Curved Fu...   \n",
       "2  3. HP Ink Tank WL 410 Multi-fu...   \n",
       "3  4. HP LaserJet 1020 Plus Singl...   \n",
       "4  5. Epson L3150 Multi-function ...   \n",
       "\n",
       "                                             Reviews  \n",
       "0  Superb, Everything is Fine, Only Con is That I...  \n",
       "1  Awesome Product...looks soo premium....would h...  \n",
       "2  Good Product. Have been using for an year now ...  \n",
       "3  good product...with manual functions.you need ...  \n",
       "4  Installation demo in CD gives me easy to insta...  "
      ]
     },
     "execution_count": 164,
     "metadata": {},
     "output_type": "execute_result"
    }
   ],
   "source": [
    "new_df.head()"
   ]
  },
  {
   "cell_type": "code",
   "execution_count": null,
   "metadata": {},
   "outputs": [],
   "source": []
  }
 ],
 "metadata": {
  "kernelspec": {
   "display_name": "Python 3",
   "language": "python",
   "name": "python3"
  },
  "language_info": {
   "codemirror_mode": {
    "name": "ipython",
    "version": 3
   },
   "file_extension": ".py",
   "mimetype": "text/x-python",
   "name": "python",
   "nbconvert_exporter": "python",
   "pygments_lexer": "ipython3",
   "version": "3.7.1"
  },
  "toc": {
   "base_numbering": 1,
   "nav_menu": {},
   "number_sections": true,
   "sideBar": true,
   "skip_h1_title": false,
   "title_cell": "Table of Contents",
   "title_sidebar": "Contents",
   "toc_cell": false,
   "toc_position": {},
   "toc_section_display": true,
   "toc_window_display": false
  }
 },
 "nbformat": 4,
 "nbformat_minor": 2
}
